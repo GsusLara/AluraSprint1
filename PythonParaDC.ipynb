{
  "nbformat": 4,
  "nbformat_minor": 0,
  "metadata": {
    "colab": {
      "provenance": [],
      "collapsed_sections": [
        "gMWDGkaxOQXG",
        "7kp5iCt42VkP"
      ],
      "authorship_tag": "ABX9TyMnSer/QkaZdLxkMo0T4mC8",
      "include_colab_link": true
    },
    "kernelspec": {
      "name": "python3",
      "display_name": "Python 3"
    },
    "language_info": {
      "name": "python"
    }
  },
  "cells": [
    {
      "cell_type": "markdown",
      "metadata": {
        "id": "view-in-github",
        "colab_type": "text"
      },
      "source": [
        "<a href=\"https://colab.research.google.com/github/GsusLara/AluraSprint1/blob/main/PythonParaDC.ipynb\" target=\"_parent\"><img src=\"https://colab.research.google.com/assets/colab-badge.svg\" alt=\"Open In Colab\"/></a>"
      ]
    },
    {
      "cell_type": "markdown",
      "source": [
        "#**Python para DS intro al leguaje**"
      ],
      "metadata": {
        "id": "13bM_dm5KP3Y"
      }
    },
    {
      "cell_type": "code",
      "execution_count": null,
      "metadata": {
        "colab": {
          "base_uri": "https://localhost:8080/"
        },
        "id": "BY3tiNbAJ7xB",
        "outputId": "32dba660-0549-470f-9f21-012071d5313e"
      },
      "outputs": [
        {
          "output_type": "execute_result",
          "data": {
            "text/plain": [
              "2"
            ]
          },
          "metadata": {},
          "execution_count": 1
        }
      ],
      "source": [
        "1+1"
      ]
    },
    {
      "cell_type": "code",
      "source": [
        "\"hola\""
      ],
      "metadata": {
        "colab": {
          "base_uri": "https://localhost:8080/",
          "height": 36
        },
        "id": "GPYsa7wELPXt",
        "outputId": "2b656797-4ad0-4008-ea35-5471a85476f3"
      },
      "execution_count": null,
      "outputs": [
        {
          "output_type": "execute_result",
          "data": {
            "text/plain": [
              "'hola'"
            ],
            "application/vnd.google.colaboratory.intrinsic+json": {
              "type": "string"
            }
          },
          "metadata": {},
          "execution_count": 2
        }
      ]
    },
    {
      "cell_type": "code",
      "source": [
        "nombre = \"jesus\""
      ],
      "metadata": {
        "id": "-JdGDHZIMAX9"
      },
      "execution_count": null,
      "outputs": []
    },
    {
      "cell_type": "code",
      "source": [
        "nombre"
      ],
      "metadata": {
        "colab": {
          "base_uri": "https://localhost:8080/",
          "height": 36
        },
        "id": "UozLS5hcMdpT",
        "outputId": "871aa936-4d5d-4fba-f02e-60eb15ba7c4d"
      },
      "execution_count": null,
      "outputs": [
        {
          "output_type": "execute_result",
          "data": {
            "text/plain": [
              "'jesus'"
            ],
            "application/vnd.google.colaboratory.intrinsic+json": {
              "type": "string"
            }
          },
          "metadata": {},
          "execution_count": 4
        }
      ]
    },
    {
      "cell_type": "markdown",
      "source": [
        "#mi primera funcion"
      ],
      "metadata": {
        "id": "gMWDGkaxOQXG"
      }
    },
    {
      "cell_type": "code",
      "source": [
        "print(f\"el nombre es {nombre}\")"
      ],
      "metadata": {
        "colab": {
          "base_uri": "https://localhost:8080/"
        },
        "id": "WDvY-2TcMfok",
        "outputId": "0bfb08c1-81b1-4380-a283-987b78703866"
      },
      "execution_count": null,
      "outputs": [
        {
          "output_type": "stream",
          "name": "stdout",
          "text": [
            "el nombre es jesus\n"
          ]
        }
      ]
    },
    {
      "cell_type": "code",
      "source": [
        "def saludar():\n",
        "  nombre = input(\"dijite su nombre: \")\n",
        "  print(f\"hola {nombre} sea bienvenido\")"
      ],
      "metadata": {
        "id": "unkfvhd9PDXD"
      },
      "execution_count": null,
      "outputs": []
    },
    {
      "cell_type": "code",
      "source": [
        "saludar()"
      ],
      "metadata": {
        "colab": {
          "base_uri": "https://localhost:8080/"
        },
        "id": "lyRIcbu9PuXu",
        "outputId": "89caf394-89de-4e8d-96db-9766ff965253"
      },
      "execution_count": null,
      "outputs": [
        {
          "output_type": "stream",
          "name": "stdout",
          "text": [
            "dijite su nombre: eduardo\n",
            "hola eduardo sea bienvenido\n"
          ]
        }
      ]
    },
    {
      "cell_type": "markdown",
      "source": [
        "# **Funcion con parámetros**"
      ],
      "metadata": {
        "id": "7kp5iCt42VkP"
      }
    },
    {
      "cell_type": "code",
      "source": [
        "nombre = \"jesus\""
      ],
      "metadata": {
        "id": "7YZUrCw1PzjR"
      },
      "execution_count": null,
      "outputs": []
    },
    {
      "cell_type": "code",
      "source": [
        "def saludarParametros(nombre):\n",
        "  print(f\"hola {nombre} sea bienvenid@\")"
      ],
      "metadata": {
        "id": "oCIasJ1E1jtO"
      },
      "execution_count": null,
      "outputs": []
    },
    {
      "cell_type": "code",
      "source": [
        "saludarParametros(\"jesus\")"
      ],
      "metadata": {
        "colab": {
          "base_uri": "https://localhost:8080/"
        },
        "id": "-GBTqoDF19YQ",
        "outputId": "0f763481-3f62-477c-ee0f-9a66f0b7ed91"
      },
      "execution_count": null,
      "outputs": [
        {
          "output_type": "stream",
          "name": "stdout",
          "text": [
            "hola jesus sea bienvenid@\n"
          ]
        }
      ]
    },
    {
      "cell_type": "code",
      "source": [],
      "metadata": {
        "id": "pFQHUzxX2a25"
      },
      "execution_count": null,
      "outputs": []
    },
    {
      "cell_type": "markdown",
      "source": [
        "\n",
        "\n",
        "```\n",
        "# This is formatted as code\n",
        "```\n",
        "\n"
      ],
      "metadata": {
        "id": "bNo9WNKiglTP"
      }
    },
    {
      "cell_type": "markdown",
      "source": [
        "#**Condicionales**"
      ],
      "metadata": {
        "id": "5Snocuhl28zg"
      }
    },
    {
      "cell_type": "code",
      "source": [
        "def verificarEdadConducción(edad):\n",
        "  if edad >=18 :\n",
        "      print(\"Usted puede conducir\")\n",
        "  else:\n",
        "      print(\"usted no tiene la edad permitida para conducir\") "
      ],
      "metadata": {
        "id": "wEn1nkhq3E9_"
      },
      "execution_count": null,
      "outputs": []
    },
    {
      "cell_type": "code",
      "source": [
        "verificarEdadConducción(int(input(\"cual es su edad: \")))"
      ],
      "metadata": {
        "colab": {
          "base_uri": "https://localhost:8080/"
        },
        "id": "t_bzLh0131lv",
        "outputId": "e6c00826-a6e2-478a-f93a-d7ac9893f1e4"
      },
      "execution_count": null,
      "outputs": [
        {
          "output_type": "stream",
          "name": "stdout",
          "text": [
            "cual es su edad: 14\n",
            "usted no tiene la edad permitida para conducir\n"
          ]
        }
      ]
    },
    {
      "cell_type": "code",
      "source": [],
      "metadata": {
        "id": "aNOAAMRa36L5"
      },
      "execution_count": null,
      "outputs": []
    },
    {
      "cell_type": "markdown",
      "source": [
        "#**Listas**"
      ],
      "metadata": {
        "id": "i1sSvIAsgt62"
      }
    },
    {
      "cell_type": "code",
      "source": [
        "edades=[48,60,15,98,76,21,19]\n",
        "print(edades[0:3])"
      ],
      "metadata": {
        "colab": {
          "base_uri": "https://localhost:8080/"
        },
        "id": "PF8t5tlSg5qX",
        "outputId": "547d96f9-0d5c-44f4-df56-361d1fcaa389"
      },
      "execution_count": null,
      "outputs": [
        {
          "output_type": "stream",
          "name": "stdout",
          "text": [
            "[48, 60, 15]\n"
          ]
        }
      ]
    },
    {
      "cell_type": "markdown",
      "source": [
        "#**loops**"
      ],
      "metadata": {
        "id": "W5DFQJb5pLfq"
      }
    },
    {
      "cell_type": "code",
      "source": [
        "def verificar(datos):\n",
        "  for edad in datos:\n",
        "    if edad < 18:\n",
        "      print(\"no puede conducir\")\n",
        "    else:\n",
        "      print(\"si puede conducir\")\n",
        "verificar(edades)"
      ],
      "metadata": {
        "colab": {
          "base_uri": "https://localhost:8080/"
        },
        "id": "_1O7BmXKpPYp",
        "outputId": "6dbc39fc-7621-47fe-b3ec-19bdce455e27"
      },
      "execution_count": null,
      "outputs": [
        {
          "output_type": "stream",
          "name": "stdout",
          "text": [
            "si puede conducir\n",
            "si puede conducir\n",
            "no puede conducir\n",
            "si puede conducir\n",
            "si puede conducir\n",
            "si puede conducir\n",
            "si puede conducir\n"
          ]
        }
      ]
    },
    {
      "cell_type": "code",
      "source": [],
      "metadata": {
        "id": "PX2UTTzGpqf6"
      },
      "execution_count": null,
      "outputs": []
    },
    {
      "cell_type": "markdown",
      "source": [
        "#**librerias**"
      ],
      "metadata": {
        "id": "IUBury3p0fWV"
      }
    },
    {
      "cell_type": "code",
      "source": [
        "from random import randrange\n",
        "\n",
        "def aleatorios(ciclos):\n",
        "  lista_numeros=[]\n",
        "  for numero in range (ciclos):\n",
        "    lista_numeros.append(randrange(0,101))\n",
        "  return(lista_numeros)\n",
        "print(aleatorios(10))  "
      ],
      "metadata": {
        "colab": {
          "base_uri": "https://localhost:8080/"
        },
        "id": "9vKam0Q80inw",
        "outputId": "4aa27dcc-fb22-46a8-a926-3178766c7249"
      },
      "execution_count": null,
      "outputs": [
        {
          "output_type": "stream",
          "name": "stdout",
          "text": [
            "[59, 64, 87, 26, 85, 76, 82, 96, 68, 12]\n"
          ]
        }
      ]
    },
    {
      "cell_type": "code",
      "source": [],
      "metadata": {
        "id": "bwn_l1551K5u"
      },
      "execution_count": null,
      "outputs": []
    },
    {
      "cell_type": "markdown",
      "source": [
        "#**Graficos**"
      ],
      "metadata": {
        "id": "QNiYLyi44l5a"
      }
    },
    {
      "cell_type": "code",
      "source": [
        "import matplotlib.pyplot as plt\n",
        "\n",
        "x = ['enero', 'febrero', 'marzo','abril', 'mayo', 'junio']\n",
        "y = [15,12,36,40,22,23]\n",
        "\n",
        "plt.title('Grafico de ventas')\n",
        "plt.plot(x,y, marker = 'o')\n",
        "plt.xlabel('meses')\n",
        "plt.ylabel('registos')\n",
        "plt.show()"
      ],
      "metadata": {
        "colab": {
          "base_uri": "https://localhost:8080/",
          "height": 295
        },
        "id": "EXVrppZf4pOr",
        "outputId": "0634940f-8907-448d-a0f3-f29b0352bca2"
      },
      "execution_count": null,
      "outputs": [
        {
          "output_type": "display_data",
          "data": {
            "text/plain": [
              "<Figure size 432x288 with 1 Axes>"
            ],
            "image/png": "[encoded data removed]"
          },
          "metadata": {
            "needs_background": "light"
          }
        }
      ]
    },
    {
      "cell_type": "code",
      "source": [],
      "metadata": {
        "id": "bX4eMr0y6LAz"
      },
      "execution_count": null,
      "outputs": []
    }
  ]
}