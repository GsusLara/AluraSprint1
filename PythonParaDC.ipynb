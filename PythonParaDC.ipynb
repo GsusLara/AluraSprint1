{
  "nbformat": 4,
  "nbformat_minor": 0,
  "metadata": {
    "colab": {
      "provenance": [],
      "collapsed_sections": [
        "gMWDGkaxOQXG",
        "7kp5iCt42VkP"
      ],
      "authorship_tag": "ABX9TyNPStRUoBqW4XrHij/UdKJa",
      "include_colab_link": true
    },
    "kernelspec": {
      "name": "python3",
      "display_name": "Python 3"
    },
    "language_info": {
      "name": "python"
    }
  },
  "cells": [
    {
      "cell_type": "markdown",
      "metadata": {
        "id": "view-in-github",
        "colab_type": "text"
      },
      "source": [
        "<a href=\"https://colab.research.google.com/github/GsusLara/AluraSprint1/blob/main/PythonParaDC.ipynb\" target=\"_parent\"><img src=\"https://colab.research.google.com/assets/colab-badge.svg\" alt=\"Open In Colab\"/></a>"
      ]
    },
    {
      "cell_type": "markdown",
      "source": [
        "#**Python para DS intro al leguaje**"
      ],
      "metadata": {
        "id": "13bM_dm5KP3Y"
      }
    },
    {
      "cell_type": "code",
      "execution_count": null,
      "metadata": {
        "colab": {
          "base_uri": "https://localhost:8080/"
        },
        "id": "BY3tiNbAJ7xB",
        "outputId": "32dba660-0549-470f-9f21-012071d5313e"
      },
      "outputs": [
        {
          "output_type": "execute_result",
          "data": {
            "text/plain": [
              "2"
            ]
          },
          "metadata": {},
          "execution_count": 1
        }
      ],
      "source": [
        "1+1"
      ]
    },
    {
      "cell_type": "code",
      "source": [
        "\"hola\""
      ],
      "metadata": {
        "colab": {
          "base_uri": "https://localhost:8080/",
          "height": 36
        },
        "id": "GPYsa7wELPXt",
        "outputId": "2b656797-4ad0-4008-ea35-5471a85476f3"
      },
      "execution_count": null,
      "outputs": [
        {
          "output_type": "execute_result",
          "data": {
            "text/plain": [
              "'hola'"
            ],
            "application/vnd.google.colaboratory.intrinsic+json": {
              "type": "string"
            }
          },
          "metadata": {},
          "execution_count": 2
        }
      ]
    },
    {
      "cell_type": "code",
      "source": [
        "nombre = \"jesus\""
      ],
      "metadata": {
        "id": "-JdGDHZIMAX9"
      },
      "execution_count": null,
      "outputs": []
    },
    {
      "cell_type": "code",
      "source": [
        "nombre"
      ],
      "metadata": {
        "colab": {
          "base_uri": "https://localhost:8080/",
          "height": 36
        },
        "id": "UozLS5hcMdpT",
        "outputId": "871aa936-4d5d-4fba-f02e-60eb15ba7c4d"
      },
      "execution_count": null,
      "outputs": [
        {
          "output_type": "execute_result",
          "data": {
            "text/plain": [
              "'jesus'"
            ],
            "application/vnd.google.colaboratory.intrinsic+json": {
              "type": "string"
            }
          },
          "metadata": {},
          "execution_count": 4
        }
      ]
    },
    {
      "cell_type": "markdown",
      "source": [
        "#mi primera funcion"
      ],
      "metadata": {
        "id": "gMWDGkaxOQXG"
      }
    },
    {
      "cell_type": "code",
      "source": [
        "print(f\"el nombre es {nombre}\")"
      ],
      "metadata": {
        "colab": {
          "base_uri": "https://localhost:8080/"
        },
        "id": "WDvY-2TcMfok",
        "outputId": "0bfb08c1-81b1-4380-a283-987b78703866"
      },
      "execution_count": null,
      "outputs": [
        {
          "output_type": "stream",
          "name": "stdout",
          "text": [
            "el nombre es jesus\n"
          ]
        }
      ]
    },
    {
      "cell_type": "code",
      "source": [
        "def saludar():\n",
        "  nombre = input(\"dijite su nombre: \")\n",
        "  print(f\"hola {nombre} sea bienvenido\")"
      ],
      "metadata": {
        "id": "unkfvhd9PDXD"
      },
      "execution_count": 5,
      "outputs": []
    },
    {
      "cell_type": "code",
      "source": [
        "saludar()"
      ],
      "metadata": {
        "colab": {
          "base_uri": "https://localhost:8080/"
        },
        "id": "lyRIcbu9PuXu",
        "outputId": "89caf394-89de-4e8d-96db-9766ff965253"
      },
      "execution_count": 7,
      "outputs": [
        {
          "output_type": "stream",
          "name": "stdout",
          "text": [
            "dijite su nombre: eduardo\n",
            "hola eduardo sea bienvenido\n"
          ]
        }
      ]
    },
    {
      "cell_type": "markdown",
      "source": [
        "# **Funcion con parámetros**"
      ],
      "metadata": {
        "id": "7kp5iCt42VkP"
      }
    },
    {
      "cell_type": "code",
      "source": [
        "nombre = \"jesus\""
      ],
      "metadata": {
        "id": "7YZUrCw1PzjR"
      },
      "execution_count": 8,
      "outputs": []
    },
    {
      "cell_type": "code",
      "source": [
        "def saludarParametros(nombre):\n",
        "  print(f\"hola {nombre} sea bienvenid@\")"
      ],
      "metadata": {
        "id": "oCIasJ1E1jtO"
      },
      "execution_count": 11,
      "outputs": []
    },
    {
      "cell_type": "code",
      "source": [
        "saludarParametros(\"jesus\")"
      ],
      "metadata": {
        "colab": {
          "base_uri": "https://localhost:8080/"
        },
        "id": "-GBTqoDF19YQ",
        "outputId": "0f763481-3f62-477c-ee0f-9a66f0b7ed91"
      },
      "execution_count": 12,
      "outputs": [
        {
          "output_type": "stream",
          "name": "stdout",
          "text": [
            "hola jesus sea bienvenid@\n"
          ]
        }
      ]
    },
    {
      "cell_type": "code",
      "source": [],
      "metadata": {
        "id": "pFQHUzxX2a25"
      },
      "execution_count": null,
      "outputs": []
    },
    {
      "cell_type": "markdown",
      "source": [
        "#**Condicionales**"
      ],
      "metadata": {
        "id": "5Snocuhl28zg"
      }
    },
    {
      "cell_type": "code",
      "source": [
        "def verificarEdadConducción(edad):\n",
        "  if edad >=18 :\n",
        "      print(\"Usted puede conducir\")\n",
        "  else:\n",
        "      print(\"usted no tiene la edad permitida para conducir\") "
      ],
      "metadata": {
        "id": "wEn1nkhq3E9_"
      },
      "execution_count": 13,
      "outputs": []
    },
    {
      "cell_type": "code",
      "source": [
        "verificarEdadConducción(int(input(\"cual es su edad: \")))"
      ],
      "metadata": {
        "colab": {
          "base_uri": "https://localhost:8080/"
        },
        "id": "t_bzLh0131lv",
        "outputId": "e6c00826-a6e2-478a-f93a-d7ac9893f1e4"
      },
      "execution_count": 18,
      "outputs": [
        {
          "output_type": "stream",
          "name": "stdout",
          "text": [
            "cual es su edad: 14\n",
            "usted no tiene la edad permitida para conducir\n"
          ]
        }
      ]
    },
    {
      "cell_type": "code",
      "source": [],
      "metadata": {
        "id": "aNOAAMRa36L5"
      },
      "execution_count": null,
      "outputs": []
    }
  ]
}